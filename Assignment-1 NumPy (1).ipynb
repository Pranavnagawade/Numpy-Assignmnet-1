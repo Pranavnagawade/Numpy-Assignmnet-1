{
 "cells": [
  {
   "cell_type": "code",
   "execution_count": 1,
   "id": "a94e6955",
   "metadata": {},
   "outputs": [],
   "source": [
    "import numpy as np"
   ]
  },
  {
   "cell_type": "markdown",
   "id": "f1d3ad40",
   "metadata": {},
   "source": [
    "1. Create a null vector of size 10 but the fifth value which is 1."
   ]
  },
  {
   "cell_type": "code",
   "execution_count": 2,
   "id": "41c4b8e7",
   "metadata": {},
   "outputs": [],
   "source": [
    "null_vector=np.zeros(10,dtype=int)\n",
    "null_vector[4]=1"
   ]
  },
  {
   "cell_type": "code",
   "execution_count": 3,
   "id": "aecaeafe",
   "metadata": {},
   "outputs": [
    {
     "name": "stdout",
     "output_type": "stream",
     "text": [
      "[0 0 0 0 1 0 0 0 0 0]\n"
     ]
    }
   ],
   "source": [
    "print(null_vector)"
   ]
  },
  {
   "cell_type": "markdown",
   "id": "bdb3edb8",
   "metadata": {},
   "source": [
    "2. Create a vector with values ranging from 10 to 49."
   ]
  },
  {
   "cell_type": "code",
   "execution_count": 4,
   "id": "a018b858",
   "metadata": {},
   "outputs": [],
   "source": [
    "vector_ranging= np.arange(10,50)"
   ]
  },
  {
   "cell_type": "code",
   "execution_count": 5,
   "id": "e32ac78a",
   "metadata": {},
   "outputs": [
    {
     "name": "stdout",
     "output_type": "stream",
     "text": [
      "[10 11 12 13 14 15 16 17 18 19 20 21 22 23 24 25 26 27 28 29 30 31 32 33\n",
      " 34 35 36 37 38 39 40 41 42 43 44 45 46 47 48 49]\n"
     ]
    }
   ],
   "source": [
    "print(vector_ranging)"
   ]
  },
  {
   "cell_type": "markdown",
   "id": "7012486d",
   "metadata": {},
   "source": [
    "3. Create a 3x3 matrix with values ranging from 0 to 8"
   ]
  },
  {
   "cell_type": "code",
   "execution_count": 6,
   "id": "6d496469",
   "metadata": {},
   "outputs": [],
   "source": [
    "matrix=np.arange(0,9).reshape(3,3)"
   ]
  },
  {
   "cell_type": "code",
   "execution_count": 7,
   "id": "cbba5b2a",
   "metadata": {},
   "outputs": [
    {
     "name": "stdout",
     "output_type": "stream",
     "text": [
      "[[0 1 2]\n",
      " [3 4 5]\n",
      " [6 7 8]]\n"
     ]
    }
   ],
   "source": [
    "print(matrix)"
   ]
  },
  {
   "cell_type": "markdown",
   "id": "9207b1d8",
   "metadata": {},
   "source": [
    "4. Find indices of non-zero elements from [1,2,0,0,4,0]"
   ]
  },
  {
   "cell_type": "code",
   "execution_count": 8,
   "id": "eb7fe29d",
   "metadata": {},
   "outputs": [],
   "source": [
    "orignal_array=np.array([1,2,0,0,4,0])\n",
    "n_array=np.nonzero(orignal_array==0)"
   ]
  },
  {
   "cell_type": "code",
   "execution_count": 9,
   "id": "5a20a50c",
   "metadata": {},
   "outputs": [
    {
     "name": "stdout",
     "output_type": "stream",
     "text": [
      "(array([2, 3, 5], dtype=int64),)\n"
     ]
    }
   ],
   "source": [
    "print(n_array)"
   ]
  },
  {
   "cell_type": "markdown",
   "id": "198f84c1",
   "metadata": {},
   "source": [
    "5. Create a 10x10 array with random values and find the minimum and maximum values."
   ]
  },
  {
   "cell_type": "code",
   "execution_count": 10,
   "id": "24c3d9b1",
   "metadata": {},
   "outputs": [],
   "source": [
    "rand_array=np.random.random((10,10))"
   ]
  },
  {
   "cell_type": "code",
   "execution_count": 11,
   "id": "ecb31d3d",
   "metadata": {},
   "outputs": [
    {
     "name": "stdout",
     "output_type": "stream",
     "text": [
      "The Minimum Value of Random Array : 0.0037312748071779422\n",
      "The Maximum Value of Random Array : 0.9963346530499669\n"
     ]
    }
   ],
   "source": [
    "print(\"The Minimum Value of Random Array :\",rand_array.min())\n",
    "print(\"The Maximum Value of Random Array :\",rand_array.max())"
   ]
  },
  {
   "cell_type": "markdown",
   "id": "c4919bc8",
   "metadata": {},
   "source": [
    "6. Create a random vector of size 30 and find the mean value."
   ]
  },
  {
   "cell_type": "code",
   "execution_count": 19,
   "id": "77342f73",
   "metadata": {},
   "outputs": [],
   "source": [
    "rand_aaray=np.random.random(30)\n"
   ]
  },
  {
   "cell_type": "code",
   "execution_count": 20,
   "id": "53d7241a",
   "metadata": {},
   "outputs": [
    {
     "name": "stdout",
     "output_type": "stream",
     "text": [
      "The Mean Value Of Random Vector 0.5108609306080487\n"
     ]
    }
   ],
   "source": [
    "print(\"The Mean Value Of Random Vector\",rand_array.mean())"
   ]
  },
  {
   "cell_type": "code",
   "execution_count": null,
   "id": "15f088fe",
   "metadata": {},
   "outputs": [],
   "source": []
  }
 ],
 "metadata": {
  "kernelspec": {
   "display_name": "Python 3 (ipykernel)",
   "language": "python",
   "name": "python3"
  },
  "language_info": {
   "codemirror_mode": {
    "name": "ipython",
    "version": 3
   },
   "file_extension": ".py",
   "mimetype": "text/x-python",
   "name": "python",
   "nbconvert_exporter": "python",
   "pygments_lexer": "ipython3",
   "version": "3.9.12"
  }
 },
 "nbformat": 4,
 "nbformat_minor": 5
}
